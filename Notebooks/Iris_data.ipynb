{
 "cells": [
  {
   "cell_type": "markdown",
   "id": "3b758d69",
   "metadata": {},
   "source": [
    "# This notebook analyses 150 samples, with 50 samples for each of the three species: Iris setosa, Iris versicolor, and Iris virginica\n"
   ]
  },
  {
   "cell_type": "markdown",
   "id": "6b8930eb",
   "metadata": {},
   "source": [
    "# Task 1 : Exploring Dataset and inspecting it. (1 May ,2025)"
   ]
  },
  {
   "cell_type": "code",
   "execution_count": 1,
   "id": "4a41eacd",
   "metadata": {},
   "outputs": [
    {
     "name": "stdout",
     "output_type": "stream",
     "text": [
      "First five rows of the dataset\n"
     ]
    },
    {
     "data": {
      "text/html": [
       "<div>\n",
       "<style scoped>\n",
       "    .dataframe tbody tr th:only-of-type {\n",
       "        vertical-align: middle;\n",
       "    }\n",
       "\n",
       "    .dataframe tbody tr th {\n",
       "        vertical-align: top;\n",
       "    }\n",
       "\n",
       "    .dataframe thead th {\n",
       "        text-align: right;\n",
       "    }\n",
       "</style>\n",
       "<table border=\"1\" class=\"dataframe\">\n",
       "  <thead>\n",
       "    <tr style=\"text-align: right;\">\n",
       "      <th></th>\n",
       "      <th>Id</th>\n",
       "      <th>SepalLengthCm</th>\n",
       "      <th>SepalWidthCm</th>\n",
       "      <th>PetalLengthCm</th>\n",
       "      <th>PetalWidthCm</th>\n",
       "      <th>Species</th>\n",
       "    </tr>\n",
       "  </thead>\n",
       "  <tbody>\n",
       "    <tr>\n",
       "      <th>0</th>\n",
       "      <td>1</td>\n",
       "      <td>5.1</td>\n",
       "      <td>3.5</td>\n",
       "      <td>1.4</td>\n",
       "      <td>0.2</td>\n",
       "      <td>Iris-setosa</td>\n",
       "    </tr>\n",
       "    <tr>\n",
       "      <th>1</th>\n",
       "      <td>2</td>\n",
       "      <td>4.9</td>\n",
       "      <td>3.0</td>\n",
       "      <td>1.4</td>\n",
       "      <td>0.2</td>\n",
       "      <td>Iris-setosa</td>\n",
       "    </tr>\n",
       "    <tr>\n",
       "      <th>2</th>\n",
       "      <td>3</td>\n",
       "      <td>4.7</td>\n",
       "      <td>3.2</td>\n",
       "      <td>1.3</td>\n",
       "      <td>0.2</td>\n",
       "      <td>Iris-setosa</td>\n",
       "    </tr>\n",
       "    <tr>\n",
       "      <th>3</th>\n",
       "      <td>4</td>\n",
       "      <td>4.6</td>\n",
       "      <td>3.1</td>\n",
       "      <td>1.5</td>\n",
       "      <td>0.2</td>\n",
       "      <td>Iris-setosa</td>\n",
       "    </tr>\n",
       "    <tr>\n",
       "      <th>4</th>\n",
       "      <td>5</td>\n",
       "      <td>5.0</td>\n",
       "      <td>3.6</td>\n",
       "      <td>1.4</td>\n",
       "      <td>0.2</td>\n",
       "      <td>Iris-setosa</td>\n",
       "    </tr>\n",
       "  </tbody>\n",
       "</table>\n",
       "</div>"
      ],
      "text/plain": [
       "   Id  SepalLengthCm  SepalWidthCm  PetalLengthCm  PetalWidthCm      Species\n",
       "0   1            5.1           3.5            1.4           0.2  Iris-setosa\n",
       "1   2            4.9           3.0            1.4           0.2  Iris-setosa\n",
       "2   3            4.7           3.2            1.3           0.2  Iris-setosa\n",
       "3   4            4.6           3.1            1.5           0.2  Iris-setosa\n",
       "4   5            5.0           3.6            1.4           0.2  Iris-setosa"
      ]
     },
     "metadata": {},
     "output_type": "display_data"
    },
    {
     "name": "stdout",
     "output_type": "stream",
     "text": [
      "\n",
      "Dataset Information\n",
      "<class 'pandas.core.frame.DataFrame'>\n",
      "RangeIndex: 150 entries, 0 to 149\n",
      "Data columns (total 6 columns):\n",
      " #   Column         Non-Null Count  Dtype  \n",
      "---  ------         --------------  -----  \n",
      " 0   Id             150 non-null    int64  \n",
      " 1   SepalLengthCm  150 non-null    float64\n",
      " 2   SepalWidthCm   150 non-null    float64\n",
      " 3   PetalLengthCm  150 non-null    float64\n",
      " 4   PetalWidthCm   150 non-null    float64\n",
      " 5   Species        150 non-null    object \n",
      "dtypes: float64(4), int64(1), object(1)\n",
      "memory usage: 7.2+ KB\n",
      "None\n",
      "\n",
      "Summary Statistics\n",
      "               Id  SepalLengthCm  SepalWidthCm  PetalLengthCm  PetalWidthCm\n",
      "count  150.000000     150.000000    150.000000     150.000000    150.000000\n",
      "mean    75.500000       5.843333      3.054000       3.758667      1.198667\n",
      "std     43.445368       0.828066      0.433594       1.764420      0.763161\n",
      "min      1.000000       4.300000      2.000000       1.000000      0.100000\n",
      "25%     38.250000       5.100000      2.800000       1.600000      0.300000\n",
      "50%     75.500000       5.800000      3.000000       4.350000      1.300000\n",
      "75%    112.750000       6.400000      3.300000       5.100000      1.800000\n",
      "max    150.000000       7.900000      4.400000       6.900000      2.500000\n",
      "Day 1 Results\n"
     ]
    }
   ],
   "source": [
    "import pandas as pd\n",
    "iris_data = pd.read_csv(\"../Datasets/Iris.csv\")  \n",
    "print(\"First five rows of the dataset\")\n",
    "display(iris_data.head())\n",
    "print(\"\\nDataset Information\")\n",
    "print(iris_data.info())\n",
    "print(\"\\nSummary Statistics\")\n",
    "print(iris_data.describe())\n",
    "print (\"Day 1 Results\")"
   ]
  },
  {
   "cell_type": "code",
   "execution_count": 2,
   "id": "bc9e6255",
   "metadata": {},
   "outputs": [],
   "source": [
    "# Observed 150 rows and 5 columns."
   ]
  },
  {
   "cell_type": "markdown",
   "id": "89677931",
   "metadata": {},
   "source": [
    "# Day 1: Exploring the Iris Dataset with Visualizations (May 1 , 2025)"
   ]
  },
  {
   "cell_type": "markdown",
   "id": "53e143db",
   "metadata": {},
   "source": [
    "# Started visualizing the Iris dataset to find species patterns."
   ]
  },
  {
   "cell_type": "markdown",
   "id": "96cc4223",
   "metadata": {},
   "source": [
    "# Creating a scatter plot for the Iris Dataset."
   ]
  },
  {
   "cell_type": "code",
   "execution_count": 4,
   "id": "14c7cd5d",
   "metadata": {},
   "outputs": [
    {
     "data": {
      "image/png": "[encoded data removed]",
      "text/plain": [
       "<Figure size 640x480 with 1 Axes>"
      ]
     },
     "metadata": {},
     "output_type": "display_data"
    }
   ],
   "source": [
    "import matplotlib.pyplot as plt\n",
    "setosa = iris_data[iris_data['Species'] == 'Iris-setosa']\n",
    "versicolor = iris_data[iris_data['Species'] == 'Iris-versicolor']\n",
    "virginica = iris_data[iris_data['Species'] == 'Iris-virginica']\n",
    "plt.scatter(setosa['SepalLengthCm'], setosa['PetalLengthCm'], color='blue', label='Setosa')\n",
    "plt.scatter(versicolor['SepalLengthCm'], versicolor['PetalLengthCm'], color='orange', label='Versicolor')\n",
    "plt.scatter(virginica['SepalLengthCm'], virginica['PetalLengthCm'], color='green', label='Virginica')\n",
    "plt.title('Flower Measurements by Species')\n",
    "plt.xlabel('Sepal Length (cm)')\n",
    "plt.ylabel('Petal Length (cm)')\n",
    "plt.legend()\n",
    "plt.show()"
   ]
  },
  {
   "cell_type": "markdown",
   "id": "3f6500b2",
   "metadata": {},
   "source": [
    "# Observations : Setosa lies lower on the y-axis , hence it's distinct from the other two. Versicolor and Virginica overlap each other more."
   ]
  },
  {
   "cell_type": "markdown",
   "id": "a5c75a43",
   "metadata": {},
   "source": [
    "# Creating a Histogram"
   ]
  },
  {
   "cell_type": "code",
   "execution_count": 5,
   "id": "cae0cce9",
   "metadata": {},
   "outputs": [
    {
     "data": {
      "image/png": "[encoded data removed]",
      "text/plain": [
       "<Figure size 640x480 with 1 Axes>"
      ]
     },
     "metadata": {},
     "output_type": "display_data"
    }
   ],
   "source": [
    "import matplotlib.pyplot as plt\n",
    "plt.hist(iris_data['PetalLengthCm'], bins=20, color='purple', edgecolor='black')\n",
    "plt.xlabel (\"Petal length (in cm)\")\n",
    "plt.ylabel (\"Frequency\")\n",
    "plt.title(\"Petal length distribution\")\n",
    "plt.show()"
   ]
  },
  {
   "cell_type": "markdown",
   "id": "5737bcb6",
   "metadata": {},
   "source": [
    "# Observed two peaks : One near 1.5 range likely Setosa and the other around 4-5 cm likely versicolor or Virginica."
   ]
  },
  {
   "cell_type": "markdown",
   "id": "1d787107",
   "metadata": {},
   "source": [
    "# Concluded Day 1 i.e May 1, 2025 , Learnt to create a scatter plot and a histogram using matplotlib , recorded the observations. Ready for more tomorrow."
   ]
  },
  {
   "cell_type": "markdown",
   "id": "d6a613a0",
   "metadata": {},
   "source": []
  }
 ],
 "metadata": {
  "kernelspec": {
   "display_name": "Python 3",
   "language": "python",
   "name": "python3"
  },
  "language_info": {
   "codemirror_mode": {
    "name": "ipython",
    "version": 3
   },
   "file_extension": ".py",
   "mimetype": "text/x-python",
   "name": "python",
   "nbconvert_exporter": "python",
   "pygments_lexer": "ipython3",
   "version": "3.13.3"
  }
 },
 "nbformat": 4,
 "nbformat_minor": 5
}
