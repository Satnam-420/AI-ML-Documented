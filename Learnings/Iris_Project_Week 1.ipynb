{
 "cells": [
  {
   "cell_type": "markdown",
   "id": "8252114d",
   "metadata": {},
   "source": []
  },
  {
   "cell_type": "markdown",
   "id": "f335eaee",
   "metadata": {},
   "source": [
    "# Day 1 : May 1, 2025"
   ]
  },
  {
   "cell_type": "markdown",
   "id": "34d7585c",
   "metadata": {},
   "source": [
    "### > Downloaded the Iris Dataset from Kaggle.\n",
    "### > Imported the csv into the notebook i.e Iris.data.ipynb using a python library called Pandas.\n",
    "### > Examined the data statistics using pandas. (150 samples of 3 different species named Setosa , Veriscolor , Virginica)\n",
    "### > Used 'head()', 'describe()', 'info()' to examine the data structure.\n",
    "### > After examining the data , I intended to visualise it using a library called Matplotlib.\n",
    "### > Imported Matplotlib.pyplot as plt and created a scatter plot for Sepal Length and Petal Length to examine the distinction between the three species.\n",
    "### > Led to a conclusion that the Setosa species is on the lower end of the y axis while the other two tend to mostly overlap each other, leading to an observation that setosa has different physical characteristics.\n",
    "### > Plotted a histogram with Petal Length (in cm )on x-axis and frequency on the y-axis.\n",
    "### > Observed that there were two peaks in the histogram one near the 1.5 mark probably of Setosa and the other near the 5 mark probably due to the other two species on the x-axis.\n",
    "\n",
    "\n",
    "## Libraries Used on Day 1: \n",
    "### i. Pandas\n",
    "### ii. Matplotlib\n",
    "\n",
    "## Mistakes made\n",
    "### i. Imported the local csv leading to the program being unresponsive on github.\n",
    "### ii. Unable to make changes due to file not being saved with changes.\n",
    "\n",
    "## Solutions to the mistakes.\n",
    "### i. Copied the relative path of the iris.csv and imported it from the path into the notebook using pandas.\n",
    "### ii. Saved the file and commited it after saving leading to github program being responsive to the changes and accessibkle inside the repository."
   ]
  },
  {
   "cell_type": "markdown",
   "id": "dc496373",
   "metadata": {},
   "source": [
    "# Day 2 : May 2, 2025"
   ]
  },
  {
   "cell_type": "markdown",
   "id": "5f3c4a6f",
   "metadata": {},
   "source": [
    "\n",
    "### > Checked for missing values to ensure that the data was good enough.\n",
    "### > Computed the averages of all species to observe if any kind of pattern was found.\n",
    "### > Generated a box plot and a scatter plot in order to explore the features more.\n",
    "### > Summarized my conclusions to end the project.\n",
    "### > Learned that employing isnull().sum() is an excellent way to identify missing data—it's important for a clean analysis.\n",
    "### > Learned that the groupby().mean() function allows me to identify averages per group, which supports what I see on the graph.\n",
    "### > Learned that box plots are great at depicting the spread and outliers—Setosa's petal length is fairly uniform.\n",
    "### > Realized that looking at different pairs of features is key to figuring out which ones work best for machine learning.\n",
    "### > Planned to publish this notebook on Kaggle to kick off my portfolio.\n",
    "### > Decided that next week, I’ll dive into a new dataset with some fresh topics."
   ]
  }
 ],
 "metadata": {
  "kernelspec": {
   "display_name": "Python 3",
   "language": "python",
   "name": "python3"
  },
  "language_info": {
   "name": "python",
   "version": "3.13.3"
  }
 },
 "nbformat": 4,
 "nbformat_minor": 5
}
