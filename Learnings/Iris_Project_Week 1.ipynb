{
 "cells": [
  {
   "cell_type": "markdown",
   "id": "8252114d",
   "metadata": {},
   "source": []
  },
  {
   "cell_type": "markdown",
   "id": "f335eaee",
   "metadata": {},
   "source": [
    "# Day 1 : May 1, 2025"
   ]
  },
  {
   "cell_type": "markdown",
   "id": "34d7585c",
   "metadata": {},
   "source": [
    "# > Downloaded the Iris Dataset from Kaggle.\n",
    "# >Imported the csv into the notebook i.e Iris.data.ipynb using a python library called Pandas.\n",
    "# >Examined the data statistics using pandas. (150 samples of 3 different species named Setosa , Veriscolor , Virginica)\n",
    "# >Used 'head()', 'describe()', 'info()' to examine the data structure."
   ]
  },
  {
   "cell_type": "markdown",
   "id": "1ded3309",
   "metadata": {},
   "source": []
  }
 ],
 "metadata": {
  "kernelspec": {
   "display_name": "Python 3",
   "language": "python",
   "name": "python3"
  },
  "language_info": {
   "name": "python",
   "version": "3.13.3"
  }
 },
 "nbformat": 4,
 "nbformat_minor": 5
}
