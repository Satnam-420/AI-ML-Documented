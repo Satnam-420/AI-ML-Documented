{
 "cells": [
  {
   "cell_type": "markdown",
   "id": "8252114d",
   "metadata": {},
   "source": []
  },
  {
   "cell_type": "markdown",
   "id": "f335eaee",
   "metadata": {},
   "source": [
    "# Day 1 : May 1, 2025"
   ]
  },
  {
   "cell_type": "markdown",
   "id": "34d7585c",
   "metadata": {},
   "source": [
    "### > Downloaded the Iris Dataset from Kaggle.\n",
    "### > Imported the csv into the notebook i.e Iris.data.ipynb using a python library called Pandas.\n",
    "### > Examined the data statistics using pandas. (150 samples of 3 different species named Setosa , Veriscolor , Virginica)\n",
    "### > Used 'head()', 'describe()', 'info()' to examine the data structure.\n",
    "### > After examining the data , I intended to visualise it using a library called Matplotlib.\n",
    "### > Imported Matplotlib.pyplot as plt and created a scatter plot for Sepal Length and Petal Length to examine the distinction between the three species.\n",
    "### > Led to a conclusion that the Setosa species is on the lower end of the y axis while the other two tend to mostly overlap each other, leading to an observation that setosa has different physical characteristics.\n",
    "### > Plotted a histogram with Petal Length (in cm )on x-axis and frequency on the y-axis.\n",
    "### > Observed that there were two peaks in the histogram one near the 1.5 mark probably of Setosa and the other near the 5 mark probably due to the other two species on the x-axis.\n",
    "\n",
    "\n",
    "## Libraries Used on Day 1: \n",
    "### i. Pandas\n",
    "### ii. Matplotlib\n",
    "\n",
    "## Mistakes made\n",
    "### i. Imported the local csv leading to the program being unresponsive on github.\n",
    "### ii. Unable to make changes due to file not being saved with changes.\n",
    "\n",
    "## Solutions to the mistakes.\n",
    "### i. Copied the relative path of the iris.csv and imported it from the path into the notebook using pandas.\n",
    "### ii. Saved the file and commited it after saving leading to github program being responsive to the changes and accessibkle inside the repository."
   ]
  },
  {
   "cell_type": "markdown",
   "id": "1ded3309",
   "metadata": {},
   "source": []
  }
 ],
 "metadata": {
  "kernelspec": {
   "display_name": "Python 3",
   "language": "python",
   "name": "python3"
  },
  "language_info": {
   "name": "python",
   "version": "3.13.3"
  }
 },
 "nbformat": 4,
 "nbformat_minor": 5
}
