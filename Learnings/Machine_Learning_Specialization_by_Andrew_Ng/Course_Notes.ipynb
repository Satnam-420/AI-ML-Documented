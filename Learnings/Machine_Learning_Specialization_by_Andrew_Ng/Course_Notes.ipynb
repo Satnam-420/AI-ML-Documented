{
 "cells": [
  {
   "cell_type": "markdown",
   "id": "5ce3dd86",
   "metadata": {},
   "source": [
    "# Course Notes: AI/ML, DSA, and More\n",
    "## This notebook documents my learnings from various courses as I work toward becoming a top-tier AI/ML and Data Science engineer. My goal is to complete certifications in AI/ML, cloud, and DevOps."
   ]
  },
  {
   "cell_type": "markdown",
   "id": "10ae0aa1",
   "metadata": {},
   "source": [
    "## Week 1 Learnings\n",
    "## Day 3 (May 3 , 2025): Part 1 - Intro to Machine Learning (Andrew Ng’s ML Specialization)\n",
    "### - What is ML: Making predictions or decisions using data.\n",
    "### - Supervised Learning: Uses labeled data for training.\n",
    " ### - Regression: Predict continuous values (e.g., house prices).\n",
    " ### - Classification: Predict categories (e.g., spam vs. not spam).\n",
    "### - Unsupervised Learning: Finds patterns in unlabeled data (e.g., clustering customers).\n",
    "\n",
    "## Day 4 (May 4 , 2025): Regression Models (Week 1)\n",
    "### - Linear Regression: Fits a line to data to predict continuous values (e.g., house prices).\n",
    "### - Cost Function: Measures the error between predicted and actual values, used to optimize the model.\n",
    "\n",
    "## Day 5 (May 5 , 2025): Regression Models (Week 1)\n",
    "### > Learned about cost function: mean squared error\n",
    "### > Explored its parabolic visualization\n",
    "### > Studied parameter optimization\n",
    "### > Analyzed regression errors\n"
   ]
  }
 ],
 "metadata": {
  "language_info": {
   "name": "python"
  }
 },
 "nbformat": 4,
 "nbformat_minor": 5
}
