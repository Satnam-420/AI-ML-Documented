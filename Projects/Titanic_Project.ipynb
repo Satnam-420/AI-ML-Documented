{
 "cells": [
  {
   "cell_type": "markdown",
   "id": "54d99103",
   "metadata": {},
   "source": [
    "Project 2 : Titanic "
   ]
  }
 ],
 "metadata": {
  "language_info": {
   "name": "python"
  }
 },
 "nbformat": 4,
 "nbformat_minor": 5
}
