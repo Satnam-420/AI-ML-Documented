{
 "cells": [
  {
   "cell_type": "markdown",
   "id": "54d99103",
   "metadata": {},
   "source": [
    "# Project 2 : Titanic - Machine Learning from Disaster (May 18 , 2025)"
   ]
  },
  {
   "cell_type": "markdown",
   "id": "515a43da",
   "metadata": {},
   "source": [
    "## Importing the data from directory and analysing it."
   ]
  },
  {
   "cell_type": "code",
   "execution_count": null,
   "id": "1f6332be",
   "metadata": {},
   "outputs": [
    {
     "data": {
      "text/plain": [
       "Index(['PassengerId', 'Survived', 'Pclass', 'Name', 'Sex', 'Age', 'SibSp',\n",
       "       'Parch', 'Ticket', 'Fare', 'Cabin', 'Embarked', 'train_test'],\n",
       "      dtype='object')"
      ]
     },
     "execution_count": 5,
     "metadata": {},
     "output_type": "execute_result"
    }
   ],
   "source": [
    "#Importing libraries needed in the project.\n",
    "import numpy as np # for numerical operations\n",
    "import pandas as pd #for data manipulation\n",
    "import seaborn as sns # for visualisation\n",
    "import matplotlib.pyplot as plt #for visualisation\n",
    "#Importing the data from the datasets.\n",
    "gender_data = pd.read_csv(\"../Datasets/titanic/gender_submission.csv\")\n",
    "test_data= pd.read_csv(\"../Datasets/titanic/test.csv\")\n",
    "train_data = pd.read_csv(\"../Datasets/titanic/train.csv\")\n",
    "train_data['train_test'] = 1\n",
    "test_data['Survived'] = np.nan\n",
    "test_data['train_test'] = 0\n",
    "#Combined the data in one dataset.\n",
    "full_data = pd.concat([train_data, test_data])\n",
    "\n",
    "% matplotlib inline\n",
    "full_data.columns\n",
    "#Checking the data types of the columns in the combined dataset."
   ]
  },
  {
   "cell_type": "code",
   "execution_count": null,
   "id": "fb35c512",
   "metadata": {},
   "outputs": [],
   "source": []
  }
 ],
 "metadata": {
  "kernelspec": {
   "display_name": "Python 3",
   "language": "python",
   "name": "python3"
  },
  "language_info": {
   "codemirror_mode": {
    "name": "ipython",
    "version": 3
   },
   "file_extension": ".py",
   "mimetype": "text/x-python",
   "name": "python",
   "nbconvert_exporter": "python",
   "pygments_lexer": "ipython3",
   "version": "3.13.3"
  }
 },
 "nbformat": 4,
 "nbformat_minor": 5
}
